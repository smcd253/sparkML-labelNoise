{
 "cells": [
  {
   "cell_type": "code",
   "execution_count": 1,
   "metadata": {},
   "outputs": [
    {
     "name": "stdout",
     "output_type": "stream",
     "text": [
      "Full.ipynb    README.txt     sum_tab_2.csv  test_rna.tsv   train_rna.tsv\r\n",
      "Import.ipynb  start.ipynb    test_cli.tsv   train_cli.tsv  visuals.ipynb\r\n",
      "NA.ipynb      sum_tab_1.csv  test_pro.tsv   train_pro.tsv\r\n"
     ]
    }
   ],
   "source": [
    "!ls\n",
    "# Numerical Imporst \n",
    "import pandas as pd\n",
    "import numpy as np\n",
    "import scipy \n",
    "\n",
    "# Plotting \n",
    "import matplotlib.pyplot as plt\n",
    "import seaborn as sns\n",
    "%matplotlib inline\n",
    "# %matplotlib notebook\n",
    "\n",
    "# Python \n",
    "import os\n",
    "\n",
    "# sklearn \n",
    "from sklearn.metrics import f1_score # f1_score(y_true, y_pred)\n",
    "from sklearn.model_selection import train_test_split\n",
    "from sklearn.model_selection import GridSearchCV\n",
    "from sklearn.ensemble import RandomForestClassifier\n",
    "from sklearn.metrics import classification_report\n",
    "from sklearn.feature_selection import SelectFromModel\n",
    "\n",
    "# scipy\n",
    "from scipy.cluster import hierarchy as hc # for dendograms "
   ]
  },
  {
   "cell_type": "code",
   "execution_count": 2,
   "metadata": {},
   "outputs": [],
   "source": [
    "df_train_pro = pd.read_table(f'{os.getcwd()}/train_pro.tsv', \n",
    "                           delim_whitespace=True,\n",
    "                           low_memory=False,).T\n",
    "df_test_pro = pd.read_table(f'{os.getcwd()}/test_pro.tsv', \n",
    "                           delim_whitespace=True,\n",
    "                           low_memory=False,).T\n",
    "df_train_rna = pd.read_table(f'{os.getcwd()}/train_rna.tsv', \n",
    "                           delim_whitespace=True,\n",
    "                           low_memory=False,).T\n",
    "df_test_rna = pd.read_table(f'{os.getcwd()}/test_rna.tsv', \n",
    "                           delim_whitespace=True,\n",
    "                           low_memory=False,).T\n",
    "df_train_cli = pd.read_csv(f'{os.getcwd()}/train_cli.tsv', \n",
    "                           delim_whitespace=True,\n",
    "                           low_memory=False,)\n",
    "df_test_cli = pd.read_csv(f'{os.getcwd()}/test_cli.tsv', \n",
    "                           delim_whitespace=True,\n",
    "                           low_memory=False,)\n",
    "df_train_mislabel = pd.read_csv(f'{os.getcwd()}/sum_tab_1.csv', \n",
    "                           low_memory=False,)\n",
    "pd.set_option(\"display.max_rows\", 100)\n",
    "pd.set_option(\"display.max_columns\", 100)"
   ]
  },
  {
   "cell_type": "code",
   "execution_count": 3,
   "metadata": {},
   "outputs": [],
   "source": [
    "# df_train_pro\n",
    "# df_test_pro\n",
    "# df_train_rna\n",
    "# df_test_rna\n",
    "# df_train_cli\n",
    "# df_test_cli\n",
    "# df_train_mislabel"
   ]
  },
  {
   "cell_type": "code",
   "execution_count": 4,
   "metadata": {},
   "outputs": [],
   "source": [
    "# Come back to the way you handle this NA, sophisticated way will imporve by at least 5% \n",
    "train_pro = df_train_pro.copy(deep=True)\n",
    "train_pro = train_pro.fillna(train_pro.median())\n",
    "train_pro.index.name = 'sample'\n",
    "\n",
    "test_pro = df_test_pro.copy(deep=True)\n",
    "test_pro = test_pro.fillna(test_pro.median())\n",
    "test_pro.index.name = 'sample'\n",
    "\n",
    "\n",
    "train_rna = df_train_rna.copy(deep=True)\n",
    "train_rna = train_rna.fillna(train_rna.median())\n",
    "train_rna.index.name = 'sample'\n",
    "\n",
    "test_rna = df_test_rna.copy(deep=True)\n",
    "test_rna = test_rna.fillna(test_rna.median())\n",
    "test_rna.index.name = 'sample'"
   ]
  },
  {
   "cell_type": "code",
   "execution_count": 5,
   "metadata": {},
   "outputs": [],
   "source": [
    "# df_train_pro\n",
    "# train_pro\n",
    "# df_test_pro\n",
    "# test_pro"
   ]
  },
  {
   "cell_type": "code",
   "execution_count": 6,
   "metadata": {},
   "outputs": [],
   "source": [
    "# df_train_rna\n",
    "# train_rna\n",
    "# df_test_rna\n",
    "# test_rna"
   ]
  },
  {
   "cell_type": "code",
   "execution_count": 7,
   "metadata": {},
   "outputs": [],
   "source": [
    "train_cli = df_train_cli.copy(deep=True)\n",
    "train_cli = train_cli.set_index('sample')\n",
    "train_cli = train_cli.replace({'gender': {'Male':0, 'Female':1},\n",
    "                              'msi': {'MSI-Low/MSS':0, 'MSI-High':1}})\n",
    "\n",
    "test_cli = df_test_cli.copy(deep=True)\n",
    "test_cli = test_cli.set_index('sample')\n",
    "test_cli = test_cli.replace({'gender': {'Male':0, 'Female':1},\n",
    "                              'msi': {'MSI-Low/MSS':0, 'MSI-High':1}})"
   ]
  },
  {
   "cell_type": "code",
   "execution_count": 8,
   "metadata": {},
   "outputs": [],
   "source": [
    "# df_train_cli\n",
    "# train_cli\n",
    "# df_test_cli\n",
    "# test_cli"
   ]
  },
  {
   "cell_type": "code",
   "execution_count": 9,
   "metadata": {},
   "outputs": [],
   "source": [
    "train_mislabel = df_train_mislabel.copy(deep=True)\n",
    "train_mislabel = train_mislabel.set_index('sample')"
   ]
  },
  {
   "cell_type": "code",
   "execution_count": 10,
   "metadata": {},
   "outputs": [],
   "source": [
    "# df_train_mislabel\n",
    "# train_mislabel"
   ]
  },
  {
   "cell_type": "code",
   "execution_count": 11,
   "metadata": {},
   "outputs": [],
   "source": [
    "train_pro.reset_index(drop=True, inplace=True)\n",
    "train_rna.reset_index(drop=True, inplace=True)\n",
    "train_cli.reset_index(drop=True, inplace=True)\n",
    "train_mislabel.reset_index(drop=True, inplace=True)"
   ]
  },
  {
   "cell_type": "code",
   "execution_count": 12,
   "metadata": {},
   "outputs": [],
   "source": [
    "# train_pro\n",
    "# train_rna\n",
    "# train_cli\n",
    "# train_mislabel"
   ]
  },
  {
   "cell_type": "code",
   "execution_count": 13,
   "metadata": {},
   "outputs": [],
   "source": [
    "train_pro_combined = pd.concat([train_mislabel, train_cli, train_pro], axis=1)\n",
    "train_rna_combined = pd.concat([train_mislabel, train_cli, train_rna], axis=1)"
   ]
  },
  {
   "cell_type": "code",
   "execution_count": 14,
   "metadata": {},
   "outputs": [],
   "source": [
    "# train_pro_combined\n",
    "# train_rna_combined"
   ]
  },
  {
   "cell_type": "code",
   "execution_count": null,
   "metadata": {},
   "outputs": [],
   "source": []
  }
 ],
 "metadata": {
  "kernelspec": {
   "display_name": "Python 3",
   "language": "python",
   "name": "python3"
  },
  "language_info": {
   "codemirror_mode": {
    "name": "ipython",
    "version": 3
   },
   "file_extension": ".py",
   "mimetype": "text/x-python",
   "name": "python",
   "nbconvert_exporter": "python",
   "pygments_lexer": "ipython3",
   "version": "3.6.5"
  }
 },
 "nbformat": 4,
 "nbformat_minor": 2
}
