{
 "cells": [
  {
   "cell_type": "code",
   "execution_count": 1,
   "metadata": {},
   "outputs": [
    {
     "name": "stdout",
     "output_type": "stream",
     "text": [
      "final_after_na.ipynb  Full-Copy4.ipynb\tFull.ipynb\t    sum_tab_1.csv\r\n",
      "final.ipynb\t      Full-Copy5.ipynb\tNA.ipynb\t    test_cli.tsv\r\n",
      "Full-Copy10.ipynb     Full-Copy6.ipynb\toutput.csv\t    test_pro.tsv\r\n",
      "Full-Copy1.ipynb      Full-Copy7.ipynb\tREADME.txt\t    train_cli.tsv\r\n",
      "Full-Copy2.ipynb      Full-Copy8.ipynb\tstart.ipynb\t    train_pro.tsv\r\n",
      "Full-Copy3.ipynb      Full-Copy9.ipynb\tsubchallenge_1.csv\r\n"
     ]
    }
   ],
   "source": [
    "!ls\n",
    "# Numerical Imporst \n",
    "import pandas as pd\n",
    "import numpy as np\n",
    "import scipy \n",
    "\n",
    "# Plotting \n",
    "import matplotlib.pyplot as plt\n",
    "import seaborn as sns\n",
    "%matplotlib inline\n",
    "# %matplotlib notebook\n",
    "\n",
    "# Python \n",
    "import os\n",
    "\n",
    "# sklearn \n",
    "from sklearn.metrics import f1_score # f1_score(y_true, y_pred)\n",
    "from sklearn.model_selection import train_test_split\n",
    "from sklearn.model_selection import GridSearchCV\n",
    "from sklearn.ensemble import RandomForestClassifier\n",
    "from sklearn.metrics import classification_report\n",
    "from sklearn.feature_selection import SelectFromModel\n",
    "\n",
    "# scipy\n",
    "from scipy.cluster import hierarchy as hc # for dendograms \n",
    "\n"
   ]
  },
  {
   "cell_type": "code",
   "execution_count": 2,
   "metadata": {},
   "outputs": [],
   "source": [
    "df_train_pro = pd.read_table(f'{os.getcwd()}/train_pro.tsv', \n",
    "                           delim_whitespace=True,\n",
    "                           low_memory=False,).T\n",
    "df_test_pro = pd.read_table(f'{os.getcwd()}/test_pro.tsv', \n",
    "                           delim_whitespace=True,\n",
    "                           low_memory=False,).T\n",
    "df_train_cli = pd.read_csv(f'{os.getcwd()}/train_cli.tsv', \n",
    "                           delim_whitespace=True,\n",
    "                           low_memory=False,)\n",
    "df_test_cli = pd.read_csv(f'{os.getcwd()}/test_cli.tsv', \n",
    "                           delim_whitespace=True,\n",
    "                           low_memory=False,)\n",
    "df_train_mislabel = pd.read_csv(f'{os.getcwd()}/sum_tab_1.csv', \n",
    "                           low_memory=False,)\n",
    "pd.set_option(\"display.max_rows\", 100)\n",
    "pd.set_option(\"display.max_columns\", 100)\n",
    "# df_train_pro\n",
    "# df_test_pro\n",
    "# df_train_cli\n",
    "# df_test_cli\n",
    "# df_train_mislabel"
   ]
  },
  {
   "cell_type": "code",
   "execution_count": 5,
   "metadata": {},
   "outputs": [],
   "source": [
    "# Come back to the way you handle this NA, sophisticated way will imporve by at least 5% \n",
    "train_pro = df_train_pro.copy(deep=True)\n",
    "train_pro = train_pro.fillna(train_pro.mean())\n",
    "train_pro.index.name = 'sample'\n",
    "\n",
    "\n",
    "test_pro = df_test_pro.copy(deep=True)\n",
    "test_pro = test_pro.fillna(test_pro.mean())\n",
    "test_pro.index.name = 'sample'\n",
    "\n",
    "# df_train_pro\n",
    "# train_pro\n",
    "# df_test_pro\n",
    "# test_pro"
   ]
  },
  {
   "cell_type": "code",
   "execution_count": 11,
   "metadata": {},
   "outputs": [],
   "source": [
    "train_cli = df_train_cli.copy(deep=True)\n",
    "train_cli = train_cli.set_index('sample')\n",
    "train_cli = train_cli.replace({'gender': {'Male':0, 'Female':1},\n",
    "                              'msi': {'MSI-Low/MSS':0, 'MSI-High':1}})\n",
    "\n",
    "test_cli = df_test_cli.copy(deep=True)\n",
    "test_cli = test_cli.set_index('sample')\n",
    "test_cli = test_cli.replace({'gender': {'Male':0, 'Female':1},\n",
    "                              'msi': {'MSI-Low/MSS':0, 'MSI-High':1}})\n",
    "# df_train_cli\n",
    "# train_cli\n",
    "# df_test_cli\n",
    "# test_cli"
   ]
  },
  {
   "cell_type": "code",
   "execution_count": 12,
   "metadata": {},
   "outputs": [],
   "source": [
    "train_mislabel = df_train_mislabel.copy(deep=True)\n",
    "train_mislabel = train_mislabel.set_index('sample')\n",
    "\n",
    "# df_train_mislabel\n",
    "# train_mislabel"
   ]
  },
  {
   "cell_type": "code",
   "execution_count": 14,
   "metadata": {},
   "outputs": [],
   "source": [
    "train_pro.reset_index(drop=True, inplace=True)\n",
    "train_cli.reset_index(drop=True, inplace=True)\n",
    "train_mislabel.reset_index(drop=True, inplace=True)\n",
    "# train_pro\n",
    "# train_cli\n",
    "# train_mislabel\n",
    "train_combined = pd.concat([train_mislabel, train_cli, train_pro], axis=1)\n",
    "# train_combined"
   ]
  },
  {
   "cell_type": "code",
   "execution_count": 18,
   "metadata": {},
   "outputs": [],
   "source": [
    "train_combined_correct = train_combined.loc[train_combined['mismatch'] == 0]\n",
    "X_correct = train_combined_correct.drop(['mismatch'], axis=1, inplace=False)\n",
    "X_correct.reset_index(drop=True, inplace=True)\n",
    "\n",
    "gender_correct = X_correct['gender']\n",
    "msi_correct = X_correct['msi']\n",
    "X_correct = X_correct.drop(['gender', 'msi'], axis=1, inplace=False)\n",
    "\n",
    "columns = X_correct.columns\n",
    "\n",
    "# X_correct\n",
    "# gender_correct\n",
    "# msi_correct"
   ]
  },
  {
   "cell_type": "code",
   "execution_count": 16,
   "metadata": {},
   "outputs": [],
   "source": [
    "# X_train, X_valid, y_train, y_valid = train_test_split(train_pro.values.astype(int), \n",
    "#                                                      train_cli['gender'].values, \n",
    "#                                                      train_cli['msi'].values, \n",
    "#                                                      test_size=0.3, \n",
    "#                                                      random_state=0,)\n",
    "\n",
    "X_gender_train, X_gender_valid, y_gender_train, y_gender_valid = train_test_split(X_correct.values.astype(int),\n",
    "                                                                                  gender_correct, \n",
    "                                                                                  test_size=0.3)\n",
    "\n",
    "\n",
    "# X_train\n",
    "# X_valid\n",
    "# y_train\n",
    "# y_valid"
   ]
  },
  {
   "cell_type": "code",
   "execution_count": null,
   "metadata": {},
   "outputs": [],
   "source": [
    "forest = RandomForestClassifier(n_estimators=500, \n",
    "                                n_jobs=-1, \n",
    "                                oob_score=True)\n",
    "\n",
    "# sorted(forest.get_params().keys())\n",
    "\n",
    "gs = GridSearchCV(estimator=forest,\n",
    "                  param_grid=[{'min_samples_leaf':[1, 3, 5, 10, 25, 100], \n",
    "                               'max_features':[None, 0.5, 'sqrt', 'log2']}],\n",
    "                  scoring='accuracy',\n",
    "                  cv=5,)\n",
    "\n",
    "gs = gs.fit(X_gender_train, y_gender_train)\n",
    "print(gs.best_score_)\n",
    "print(gs.best_params_)\n"
   ]
  },
  {
   "cell_type": "code",
   "execution_count": 19,
   "metadata": {},
   "outputs": [
    {
     "name": "stdout",
     "output_type": "stream",
     "text": [
      " 1) HSPA2                          0.035714\n",
      " 2) SNRPA                          0.026962\n",
      " 3) COG3                           0.025246\n",
      " 4) FLNC                           0.020027\n",
      " 5) GADD45GIP1                     0.019792\n",
      " 6) MCAM                           0.019566\n",
      " 7) ARFIP1                         0.018170\n",
      " 8) MRPL9                          0.013516\n",
      " 9) PGM5                           0.013486\n",
      "10) AP2S1                          0.011152\n",
      "11) CISD1                          0.011100\n",
      "12) AGRN                           0.010416\n",
      "13) COG4                           0.010129\n",
      "14) IGLL5                          0.009944\n",
      "15) PPP1CC                         0.009905\n",
      "16) SERPINB1                       0.009259\n",
      "17) TPD52                          0.008477\n",
      "18) MRPL16                         0.008298\n",
      "19) AOC3                           0.008282\n",
      "20) MAP2K2                         0.007944\n",
      "21) DYNLL1                         0.007848\n",
      "22) IKBIP                          0.006997\n",
      "23) TTC37                          0.006673\n",
      "24) PLG                            0.006519\n",
      "25) PAPSS1                         0.006443\n",
      "26) HIST1H1E                       0.006406\n",
      "27) HSPA5                          0.006329\n",
      "28) P01966                         0.006160\n",
      "29) MAT2B                          0.006013\n",
      "30) HSPB1                          0.005348\n",
      "31) DNM3                           0.005309\n",
      "32) LY75                           0.005142\n",
      "33) ACTG2                          0.005132\n",
      "34) NDUFA11                        0.005124\n",
      "35) ZNF706                         0.004931\n",
      "36) C4A                            0.004911\n",
      "37) IARS2                          0.004767\n",
      "38) RFC4                           0.004705\n",
      "39) GOLGA2                         0.004704\n",
      "40) POFUT1                         0.004605\n",
      "41) U2AF1L5                        0.004579\n",
      "42) MRPL43                         0.004543\n",
      "43) ATIC                           0.004529\n",
      "44) ACAT2                          0.004451\n",
      "45) DBN1                           0.004439\n",
      "46) TNXB                           0.004407\n",
      "47) FGA                            0.004387\n",
      "48) AKAP12                         0.004366\n",
      "49) SRPK1                          0.004157\n",
      "50) SYNM                           0.004094\n",
      "51) SLC35A2                        0.003991\n",
      "52) AGK                            0.003868\n",
      "53) POF1B                          0.003856\n",
      "54) ACOX1                          0.003839\n",
      "55) VPS35                          0.003740\n",
      "56) SYMPK                          0.003520\n",
      "57) MRPL47                         0.003456\n",
      "58) C2                             0.003423\n",
      "59) MUC13                          0.003370\n",
      "60) MRC2                           0.003299\n",
      "61) AMBP                           0.003241\n",
      "62) APOE                           0.003215\n",
      "63) NDUFA2                         0.003175\n",
      "64) RAB2A                          0.003075\n",
      "65) SERPINC1                       0.003068\n",
      "66) RCN1                           0.003023\n",
      "67) FERMT1                         0.003017\n",
      "68) TBL1XR1                        0.003009\n",
      "69) CD109                          0.003005\n",
      "70) MCCC2                          0.002956\n",
      "71) CROCC                          0.002949\n",
      "72) JCHAIN                         0.002943\n",
      "73) FKBP3                          0.002901\n",
      "74) FAHD1                          0.002795\n",
      "75) TAGLN                          0.002789\n",
      "76) CORO1C                         0.002788\n",
      "77) FBLN1                          0.002753\n",
      "78) FKBP9                          0.002726\n",
      "79) GGH                            0.002715\n",
      "80) UROD                           0.002703\n",
      "81) EFEMP1                         0.002664\n",
      "82) AGT                            0.002652\n",
      "83) APPL1                          0.002645\n",
      "84) LARP1                          0.002637\n",
      "85) UBE2I                          0.002625\n",
      "86) VWA8                           0.002579\n",
      "87) CRYAB                          0.002537\n",
      "88) QDPR                           0.002532\n",
      "89) SMARCA4                        0.002525\n",
      "90) MFGE8                          0.002398\n",
      "91) SEPT8                          0.002393\n",
      "92) SYAP1                          0.002389\n",
      "93) ALDOB                          0.002304\n",
      "94) EPS8L2                         0.002255\n",
      "95) KDM1A                          0.002234\n",
      "96) MED23                          0.002211\n",
      "97) P02769                         0.002206\n",
      "98) GTPBP10                        0.002202\n",
      "99) EXOSC2                         0.002202\n",
      "100) DPYSL3                         0.002186\n"
     ]
    },
    {
     "data": {
      "text/plain": [
       "<BarContainer object of 4118 artists>"
      ]
     },
     "execution_count": 19,
     "metadata": {},
     "output_type": "execute_result"
    },
    {
     "data": {
      "image/png": "[encoded data removed]",
      "text/plain": [
       "<Figure size 432x288 with 1 Axes>"
      ]
     },
     "metadata": {},
     "output_type": "display_data"
    }
   ],
   "source": [
    "gender_forest = RandomForestClassifier(n_estimators=500,\n",
    "                                min_samples_leaf=3,\n",
    "                                max_features=None,\n",
    "                                n_jobs=-1, \n",
    "                                oob_score=True)\n",
    "gender_forest.fit(X_gender_train, y_gender_train)\n",
    "\n",
    "gender_importances = gender_forest.feature_importances_\n",
    "gender_indices = np.argsort(gender_importances)[::-1]\n",
    "\n",
    "# for f in range(X_train.shape[1]): # to get the full results\n",
    "for f in range(100):\n",
    "    print(\"%2d) %-*s %f\" % (f + 1, 30, columns[gender_indices[f]], gender_importances[gender_indices[f]]))\n",
    "    \n",
    "plt.title('Feature Importance')\n",
    "plt.bar(range(X_gender_train.shape[1]), gender_importances[gender_indices], align='center')"
   ]
  },
  {
   "cell_type": "code",
   "execution_count": 20,
   "metadata": {},
   "outputs": [
    {
     "name": "stdout",
     "output_type": "stream",
     "text": [
      "k=5 Nearest Neighbors: \n",
      "              precision    recall  f1-score   support\n",
      "\n",
      "          0       0.67      0.40      0.50         5\n",
      "          1       0.83      0.94      0.88        16\n",
      "\n",
      "avg / total       0.79      0.81      0.79        21\n",
      "\n"
     ]
    }
   ],
   "source": [
    "y_gender_pred = gender_forest.predict(X_gender_valid)\n",
    "print('k=5 Nearest Neighbors: \\n', classification_report(y_true=y_gender_valid, y_pred=y_gender_pred))"
   ]
  },
  {
   "cell_type": "code",
   "execution_count": 21,
   "metadata": {},
   "outputs": [],
   "source": [
    "gender_select = SelectFromModel(gender_forest, threshold=0.019)\n",
    "\n",
    "gender_select.fit(X_gender_train, y_gender_train)\n",
    "\n",
    "X_gender_important_train = gender_select.transform(X_gender_train)\n",
    "X_gender_important_train_df = pd.DataFrame(X_gender_important_train)\n",
    "X_gender_important_valid = gender_select.transform(X_gender_valid)"
   ]
  },
  {
   "cell_type": "code",
   "execution_count": 22,
   "metadata": {},
   "outputs": [
    {
     "name": "stdout",
     "output_type": "stream",
     "text": [
      "k=5 Nearest Neighbors: \n",
      "              precision    recall  f1-score   support\n",
      "\n",
      "          0       0.67      0.40      0.50         5\n",
      "          1       0.83      0.94      0.88        16\n",
      "\n",
      "avg / total       0.79      0.81      0.79        21\n",
      "\n"
     ]
    }
   ],
   "source": [
    "gender_forest.fit(X_gender_important_train, y_gender_train)\n",
    "y_pred = gender_forest.predict(X_gender_important_valid)\n",
    "print('k=5 Nearest Neighbors: \\n', classification_report(y_true=y_gender_valid, y_pred=y_gender_pred))\n"
   ]
  },
  {
   "cell_type": "code",
   "execution_count": 23,
   "metadata": {},
   "outputs": [
    {
     "data": {
      "image/png": "[encoded data removed]",
      "text/plain": [
       "<Figure size 1152x720 with 1 Axes>"
      ]
     },
     "metadata": {},
     "output_type": "display_data"
    }
   ],
   "source": [
    "gender_corr = np.round(scipy.stats.spearmanr(X_gender_important_train).correlation, 4)\n",
    "gender_corr_condensed = hc.distance.squareform(1-gender_corr)\n",
    "z = hc.linkage(gender_corr_condensed, method='average')\n",
    "fig = plt.figure(figsize=(16,10))\n",
    "gender_dendrogram = hc.dendrogram(z, labels=X_gender_important_train_df.columns, orientation='left', leaf_font_size=16)\n",
    "plt.show()"
   ]
  },
  {
   "cell_type": "code",
   "execution_count": 24,
   "metadata": {},
   "outputs": [],
   "source": [
    "X_msi_train, X_msi_valid, y_msi_train, y_msi_valid = train_test_split(X_correct.values.astype(int),\n",
    "                                                                      msi_correct,\n",
    "                                                                      test_size=0.3)"
   ]
  },
  {
   "cell_type": "code",
   "execution_count": null,
   "metadata": {},
   "outputs": [],
   "source": [
    "forest = RandomForestClassifier(n_estimators=500, \n",
    "                                n_jobs=-1, \n",
    "                                oob_score=True)\n",
    "\n",
    "# sorted(forest.get_params().keys())\n",
    "\n",
    "gs = GridSearchCV(estimator=forest,\n",
    "                  param_grid=[{'min_samples_leaf':[1, 3, 5, 10, 25, 100], \n",
    "                               'max_features':[None, 0.5, 'sqrt', 'log2']}],\n",
    "                  scoring='accuracy',\n",
    "                  cv=5,)\n",
    "\n",
    "gs = gs.fit(X_msi_train, y_msi_train)\n",
    "print(gs.best_score_)\n",
    "print(gs.best_params_)\n"
   ]
  },
  {
   "cell_type": "code",
   "execution_count": 25,
   "metadata": {},
   "outputs": [
    {
     "name": "stdout",
     "output_type": "stream",
     "text": [
      " 1) GBP1                           0.169255\n",
      " 2) MYO1G                          0.134995\n",
      " 3) UBE2L6                         0.085144\n",
      " 4) CNDP2                          0.067607\n",
      " 5) TMED1                          0.052030\n",
      " 6) PTPRC                          0.043316\n",
      " 7) CKB                            0.036228\n",
      " 8) ADPGK                          0.033480\n",
      " 9) ELP3                           0.023291\n",
      "10) IFI30                          0.019228\n",
      "11) TYMP                           0.014404\n",
      "12) S100A12                        0.013309\n",
      "13) LCP1                           0.011949\n",
      "14) EVL                            0.011649\n",
      "15) TAP1                           0.010300\n",
      "16) MYO1F                          0.010111\n",
      "17) TAPBP                          0.009992\n",
      "18) CASK                           0.009839\n",
      "19) SDF2L1                         0.009525\n",
      "20) FRMPD3                         0.009228\n",
      "21) OAS3                           0.007938\n",
      "22) HAT1                           0.007845\n",
      "23) PGD                            0.007768\n",
      "24) PTPN6                          0.006000\n",
      "25) VTI1B                          0.005946\n",
      "26) UBA6                           0.005942\n",
      "27) IFI35                          0.005819\n",
      "28) ACP2                           0.004616\n",
      "29) PRTN3                          0.004230\n",
      "30) KLC4                           0.004209\n",
      "31) ANP32E                         0.004056\n",
      "32) GSDMD                          0.004019\n",
      "33) DLG1                           0.004000\n",
      "34) SELENBP1                       0.004000\n",
      "35) CD74                           0.004000\n",
      "36) CAPG                           0.004000\n",
      "37) ROCK1                          0.004000\n",
      "38) NNT                            0.004000\n",
      "39) MANF                           0.004000\n",
      "40) MSN                            0.004000\n",
      "41) IL4I1                          0.003920\n",
      "42) ACOT8                          0.003919\n",
      "43) LTF                            0.003919\n",
      "44) G6PD                           0.003772\n",
      "45) PLEK                           0.003760\n",
      "46) AP1S1                          0.003594\n",
      "47) PLEKHO2                        0.002400\n",
      "48) TTC37                          0.002381\n",
      "49) PGLYRP1                        0.002306\n",
      "50) HEBP2                          0.002230\n",
      "51) SEC11A                         0.002199\n",
      "52) ACSL5                          0.002099\n",
      "53) CAMP                           0.002098\n",
      "54) SCPEP1                         0.002062\n",
      "55) AP1G2                          0.002045\n",
      "56) ITGB2                          0.002000\n",
      "57) COPG2                          0.002000\n",
      "58) STAU1                          0.002000\n",
      "59) FMNL1                          0.002000\n",
      "60) MYO9B                          0.002000\n",
      "61) BPI                            0.002000\n",
      "62) WARS                           0.002000\n",
      "63) SLC30A7                        0.002000\n",
      "64) NFKB2                          0.002000\n",
      "65) ICAM1                          0.002000\n",
      "66) AK3                            0.002000\n",
      "67) VWA5A                          0.002000\n",
      "68) ANKRD28                        0.002000\n",
      "69) LMAN1                          0.002000\n",
      "70) RBP4                           0.002000\n",
      "71) ARHGDIB                        0.002000\n",
      "72) XRN1                           0.002000\n",
      "73) FGB                            0.002000\n",
      "74) EEA1                           0.002000\n",
      "75) DOCK2                          0.001958\n",
      "76) ATP6V1B2                       0.001949\n",
      "77) ATOX1                          0.001940\n",
      "78) SRSF1                          0.001938\n",
      "79) NCF2                           0.001919\n",
      "80) RPA1                           0.001919\n",
      "81) TMED2                          0.001905\n",
      "82) FN1                            0.001716\n",
      "83) GMFB                           0.001693\n",
      "84) CMAS                           0.000665\n",
      "85) VAT1                           0.000639\n",
      "86) PRKDC                          0.000639\n",
      "87) CIB1                           0.000634\n",
      "88) LLGL2                          0.000560\n",
      "89) PLA2G2A                        0.000519\n",
      "90) CNP                            0.000451\n",
      "91) UNC13D                         0.000411\n",
      "92) PRRC2C                         0.000400\n",
      "93) TNFAIP2                        0.000400\n",
      "94) HSPH1                          0.000400\n",
      "95) STARD10                        0.000400\n",
      "96) SOD3                           0.000367\n",
      "97) CPNE3                          0.000367\n",
      "98) STOML2                         0.000361\n",
      "99) DCTN3                          0.000340\n",
      "100) SEL1L                          0.000332\n"
     ]
    },
    {
     "data": {
      "text/plain": [
       "<BarContainer object of 4118 artists>"
      ]
     },
     "execution_count": 25,
     "metadata": {},
     "output_type": "execute_result"
    },
    {
     "data": {
      "image/png": "[encoded data removed]",
      "text/plain": [
       "<Figure size 432x288 with 1 Axes>"
      ]
     },
     "metadata": {},
     "output_type": "display_data"
    }
   ],
   "source": [
    "msi_forest = RandomForestClassifier(n_estimators=500,\n",
    "                                min_samples_leaf=5,\n",
    "                                max_features=None,\n",
    "                                n_jobs=-1, \n",
    "                                oob_score=True)\n",
    "\n",
    "msi_forest.fit(X_msi_train, y_msi_train)\n",
    "\n",
    "msi_importances = msi_forest.feature_importances_\n",
    "msi_indices = np.argsort(msi_importances)[::-1]\n",
    "\n",
    "# for f in range(X_train.shape[1]): # to get the full results\n",
    "for f in range(100):\n",
    "    print(\"%2d) %-*s %f\" % (f + 1, 30, columns[msi_indices[f]], msi_importances[msi_indices[f]]))\n",
    "    \n",
    "plt.title('Feature Importance')\n",
    "plt.bar(range(X_msi_train.shape[1]), msi_importances[msi_indices], align='center')"
   ]
  },
  {
   "cell_type": "code",
   "execution_count": 26,
   "metadata": {},
   "outputs": [
    {
     "name": "stdout",
     "output_type": "stream",
     "text": [
      "k=5 Nearest Neighbors: \n",
      "              precision    recall  f1-score   support\n",
      "\n",
      "          0       0.79      0.94      0.86        16\n",
      "          1       0.50      0.20      0.29         5\n",
      "\n",
      "avg / total       0.72      0.76      0.72        21\n",
      "\n"
     ]
    }
   ],
   "source": [
    "y_msi_pred = msi_forest.predict(X_msi_valid)\n",
    "print('k=5 Nearest Neighbors: \\n', classification_report(y_true=y_msi_valid, y_pred=y_msi_pred))"
   ]
  },
  {
   "cell_type": "code",
   "execution_count": 27,
   "metadata": {},
   "outputs": [],
   "source": [
    "msi_select = SelectFromModel(msi_forest, threshold=0.019)\n",
    "\n",
    "msi_select.fit(X_msi_train, y_msi_train)\n",
    "\n",
    "X_msi_important_train = msi_select.transform(X_msi_train)\n",
    "X_msi_important_train_df = pd.DataFrame(X_msi_important_train)\n",
    "X_msi_important_valid = msi_select.transform(X_msi_valid)"
   ]
  },
  {
   "cell_type": "code",
   "execution_count": 28,
   "metadata": {},
   "outputs": [
    {
     "name": "stdout",
     "output_type": "stream",
     "text": [
      "k=5 Nearest Neighbors: \n",
      "              precision    recall  f1-score   support\n",
      "\n",
      "          0       0.79      0.94      0.86        16\n",
      "          1       0.50      0.20      0.29         5\n",
      "\n",
      "avg / total       0.72      0.76      0.72        21\n",
      "\n"
     ]
    }
   ],
   "source": [
    "msi_forest.fit(X_msi_important_train, y_msi_train)\n",
    "y_msi_pred = msi_forest.predict(X_msi_important_valid)\n",
    "print('k=5 Nearest Neighbors: \\n', classification_report(y_true=y_msi_valid, y_pred=y_msi_pred))\n"
   ]
  },
  {
   "cell_type": "code",
   "execution_count": 29,
   "metadata": {},
   "outputs": [
    {
     "data": {
      "image/png": "[encoded data removed]",
      "text/plain": [
       "<Figure size 1152x720 with 1 Axes>"
      ]
     },
     "metadata": {},
     "output_type": "display_data"
    }
   ],
   "source": [
    "msi_corr = np.round(scipy.stats.spearmanr(X_msi_important_train).correlation, 4)\n",
    "msi_corr_condensed = hc.distance.squareform(1-msi_corr)\n",
    "msi_z = hc.linkage(msi_corr_condensed, method='average')\n",
    "fig = plt.figure(figsize=(16,10))\n",
    "msi_dendrogram = hc.dendrogram(msi_z, labels=X_msi_important_train_df.columns, orientation='left', leaf_font_size=16)\n",
    "plt.show()"
   ]
  },
  {
   "cell_type": "markdown",
   "metadata": {},
   "source": [
    "### msi\n",
    "1. CASK                           0.064384\n",
    "2. ADPGK                          0.061092\n",
    "3. ANP32E                         0.048545\n",
    "4. KLC4                           0.040509\n",
    "5. TAP1                           0.038269\n",
    "6. NCAPG                          0.037576\n",
    "7. RAD50                          0.035045\n",
    "8. FMNL1                          0.033152\n",
    "9. GBP2                           0.030121\n",
    "10. XPNPEP1                        0.029699\n",
    "11. PTPRC                          0.025719\n",
    "\n",
    "### gender\n",
    "1. PPP1CC                         0.050713\n",
    "2. AGRN                           0.037314\n",
    "4. ARFIP1                         0.029830\n",
    "5. CES2                           0.023406\n",
    "6. MYO5B                          0.021966\n"
   ]
  },
  {
   "cell_type": "code",
   "execution_count": 33,
   "metadata": {},
   "outputs": [],
   "source": [
    "train_final = train_combined [['msi', 'CASK', 'ADPGK', 'ANP32E', 'KLC4', 'TAP1', 'NCAPG', 'RAD50', 'FMNL1', 'GBP2', 'XPNPEP1', 'PTPRC',\n",
    "                               'gender', 'PPP1CC', 'AGRN', 'ARFIP1', 'CES2', 'MYO5B']]\n",
    "\n",
    "columns = train_final.columns\n",
    "\n",
    "# train_final\n",
    "# train_combined"
   ]
  },
  {
   "cell_type": "code",
   "execution_count": 34,
   "metadata": {},
   "outputs": [],
   "source": [
    "X_final_train, X_final_valid, y_final_train, y_final_valid = train_test_split(train_final.values.astype(int),\n",
    "                                                                              train_combined.mismatch.values, \n",
    "                                                                              test_size=0.3)"
   ]
  },
  {
   "cell_type": "code",
   "execution_count": null,
   "metadata": {},
   "outputs": [],
   "source": [
    "forest = RandomForestClassifier(n_estimators=500, \n",
    "                                n_jobs=-1, \n",
    "                                oob_score=True)\n",
    "\n",
    "# sorted(forest.get_params().keys())\n",
    "\n",
    "gs = GridSearchCV(estimator=forest,\n",
    "                  param_grid=[{'min_samples_leaf':[1, 3, 5, 10, 25, 100], \n",
    "                               'max_features':[None, 0.5, 'sqrt', 'log2']}],\n",
    "                  scoring='accuracy',\n",
    "                  cv=5,)\n",
    "\n",
    "gs = gs.fit(X_train, y_train)\n",
    "print(gs.best_score_)\n",
    "print(gs.best_params_)\n"
   ]
  },
  {
   "cell_type": "code",
   "execution_count": 35,
   "metadata": {},
   "outputs": [
    {
     "name": "stdout",
     "output_type": "stream",
     "text": [
      " 1) RAD50                          0.146304\n",
      " 2) CES2                           0.129156\n",
      " 3) MYO5B                          0.111445\n",
      " 4) XPNPEP1                        0.087399\n",
      " 5) ANP32E                         0.078285\n",
      " 6) gender                         0.070542\n",
      " 7) AGRN                           0.063113\n",
      " 8) msi                            0.060046\n",
      " 9) ADPGK                          0.058942\n",
      "10) ARFIP1                         0.044022\n",
      "11) CASK                           0.033939\n",
      "12) TAP1                           0.032409\n",
      "13) PTPRC                          0.025873\n",
      "14) GBP2                           0.022659\n",
      "15) FMNL1                          0.017254\n",
      "16) KLC4                           0.014576\n"
     ]
    },
    {
     "data": {
      "text/plain": [
       "<BarContainer object of 18 artists>"
      ]
     },
     "execution_count": 35,
     "metadata": {},
     "output_type": "execute_result"
    },
    {
     "data": {
      "image/png": "[encoded data removed]",
      "text/plain": [
       "<Figure size 432x288 with 1 Axes>"
      ]
     },
     "metadata": {},
     "output_type": "display_data"
    }
   ],
   "source": [
    "final_forest = RandomForestClassifier(n_estimators=500, \n",
    "                                      min_samples_leaf=3,\n",
    "                                      max_features=None,\n",
    "                                      n_jobs=-1,\n",
    "                                      oob_score=True)\n",
    "\n",
    "final_forest.fit(X_final_train, y_final_train)\n",
    "\n",
    "final_importances = final_forest.feature_importances_\n",
    "final_indices = np.argsort(final_importances)[::-1]\n",
    "\n",
    "# for f in range(X_train.shape[1]): # to get the full results\n",
    "for f in range(16):\n",
    "    print(\"%2d) %-*s %f\" % (f + 1, 30, columns[final_indices[f]], final_importances[final_indices[f]]))\n",
    "    \n",
    "plt.title('Feature Importance')\n",
    "plt.bar(range(X_final_train.shape[1]), final_importances[final_indices], align='center')"
   ]
  },
  {
   "cell_type": "code",
   "execution_count": 36,
   "metadata": {},
   "outputs": [
    {
     "name": "stdout",
     "output_type": "stream",
     "text": [
      "Random Forest: \n",
      "              precision    recall  f1-score   support\n",
      "\n",
      "          0       0.75      1.00      0.86        18\n",
      "          1       0.00      0.00      0.00         6\n",
      "\n",
      "avg / total       0.56      0.75      0.64        24\n",
      "\n"
     ]
    },
    {
     "name": "stderr",
     "output_type": "stream",
     "text": [
      "/home/ubuntu/anaconda3/envs/python3/lib/python3.6/site-packages/sklearn/metrics/classification.py:1135: UndefinedMetricWarning: Precision and F-score are ill-defined and being set to 0.0 in labels with no predicted samples.\n",
      "  'precision', 'predicted', average, warn_for)\n"
     ]
    }
   ],
   "source": [
    "y_final_pred = final_forest.predict(X_final_valid)\n",
    "print('Random Forest: \\n', classification_report(y_true=y_final_valid, y_pred=y_final_pred))"
   ]
  },
  {
   "cell_type": "code",
   "execution_count": 37,
   "metadata": {},
   "outputs": [],
   "source": [
    "final_select = SelectFromModel(final_forest, threshold=0.019)\n",
    "\n",
    "final_select.fit(X_final_train, y_final_train)\n",
    "\n",
    "X_final_important_train = final_select.transform(X_final_train)\n",
    "X_final_important_train_df = pd.DataFrame(X_final_important_train)\n",
    "X_final_important_valid = final_select.transform(X_final_valid)"
   ]
  },
  {
   "cell_type": "code",
   "execution_count": 38,
   "metadata": {},
   "outputs": [
    {
     "name": "stdout",
     "output_type": "stream",
     "text": [
      "Random Forest: \n",
      "              precision    recall  f1-score   support\n",
      "\n",
      "          0       0.75      1.00      0.86        18\n",
      "          1       0.00      0.00      0.00         6\n",
      "\n",
      "avg / total       0.56      0.75      0.64        24\n",
      "\n",
      "OOB score:  0.8928571428571429\n"
     ]
    },
    {
     "name": "stderr",
     "output_type": "stream",
     "text": [
      "/home/ubuntu/anaconda3/envs/python3/lib/python3.6/site-packages/sklearn/metrics/classification.py:1135: UndefinedMetricWarning: Precision and F-score are ill-defined and being set to 0.0 in labels with no predicted samples.\n",
      "  'precision', 'predicted', average, warn_for)\n"
     ]
    }
   ],
   "source": [
    "final_forest.fit(X_final_important_train, y_final_train)\n",
    "y_final_pred = final_forest.predict(X_final_important_valid)\n",
    "print('Random Forest: \\n', classification_report(y_true=y_final_valid, y_pred=y_final_pred))\n",
    "print('OOB score: ', final_forest.oob_score_)"
   ]
  },
  {
   "cell_type": "code",
   "execution_count": 39,
   "metadata": {},
   "outputs": [
    {
     "data": {
      "image/png": "[encoded data removed]",
      "text/plain": [
       "<Figure size 1152x720 with 1 Axes>"
      ]
     },
     "metadata": {},
     "output_type": "display_data"
    }
   ],
   "source": [
    "final_corr = np.round(scipy.stats.spearmanr(X_final_important_train).correlation, 4)\n",
    "final_corr_condensed = hc.distance.squareform(1-final_corr)\n",
    "final_z = hc.linkage(final_corr_condensed, method='average')\n",
    "fig = plt.figure(figsize=(16,10))\n",
    "final_dendrogram = hc.dendrogram(final_z, labels=X_final_important_train_df.columns, orientation='left', leaf_font_size=16)\n",
    "plt.show()"
   ]
  },
  {
   "cell_type": "markdown",
   "metadata": {},
   "source": [
    "### final parameters based on the importance on full dataset \n",
    "\n",
    "1. ANP32E                         0.202813\n",
    "2. msi                            0.122349\n",
    "3. AGRN                           0.104420\n",
    "4. RAD50                          0.087882\n",
    "5. CASK                           0.066713\n",
    "6. MYO5B                          0.065782\n",
    "7. XPNPEP1                        0.063634\n",
    "8. FMNL1                          0.049491\n",
    "9. CES2                           0.046209\n",
    "10. GBP2                          0.031256\n",
    "11. KLC4                          0.031149\n",
    "12. ARFIP1                        0.030896\n",
    "13. gender                        0.023883\n"
   ]
  },
  {
   "cell_type": "code",
   "execution_count": 43,
   "metadata": {},
   "outputs": [],
   "source": [
    "train_final2 = train_combined [['gender',\n",
    "                                'ANP32E', \n",
    "                                'AGRN', \n",
    "                                'RAD50', \n",
    "                                'CASK', \n",
    "                                'MYO5B', \n",
    "                                'XPNPEP1', \n",
    "                                'FMNL1', \n",
    "                                'CES2', \n",
    "                                'GBP2',\n",
    "                                'KLC4', \n",
    "                                'ARFIP1',\n",
    "                                'msi']]\n",
    "\n",
    "\n",
    "columns = train_final2.columns\n",
    "\n",
    "# train_final2\n",
    "# train_combined"
   ]
  },
  {
   "cell_type": "code",
   "execution_count": 44,
   "metadata": {},
   "outputs": [],
   "source": [
    "X_final2_train, X_final2_valid, y_final2_train, y_final2_valid = train_test_split(train_final2.values.astype(int),\n",
    "                                                                                  train_combined.mismatch.values, \n",
    "                                                                                  test_size=0.3)"
   ]
  },
  {
   "cell_type": "code",
   "execution_count": 45,
   "metadata": {},
   "outputs": [],
   "source": [
    "# final2_forest = RandomForestClassifier(n_estimators=500, \n",
    "#                                 n_jobs=-1, \n",
    "#                                 oob_score=True)\n",
    "\n",
    "# # sorted(forest.get_params().keys())\n",
    "\n",
    "# gs = GridSearchCV(estimator=final2_forest,\n",
    "#                   param_grid=[{'min_samples_leaf':[1, 3, 5, 10, 25, 100], \n",
    "#                                'max_features':[None, 0.5, 'sqrt', 'log2']}],\n",
    "#                   scoring='accuracy',\n",
    "#                   cv=5,)\n",
    "\n",
    "# gs = gs.fit(X_final2_train, y_final2_train)\n",
    "# print(gs.best_score_)\n",
    "# print(gs.best_params_)\n"
   ]
  },
  {
   "cell_type": "code",
   "execution_count": 46,
   "metadata": {},
   "outputs": [
    {
     "name": "stdout",
     "output_type": "stream",
     "text": [
      " 1) ANP32E                         0.331465\n",
      " 2) msi                            0.242624\n",
      " 3) RAD50                          0.101671\n",
      " 4) MYO5B                          0.082674\n",
      " 5) CES2                           0.049331\n",
      " 6) ARFIP1                         0.047512\n",
      " 7) KLC4                           0.037697\n",
      " 8) GBP2                           0.028671\n",
      " 9) XPNPEP1                        0.024866\n",
      "10) FMNL1                          0.020829\n",
      "11) CASK                           0.019417\n",
      "12) gender                         0.013243\n"
     ]
    },
    {
     "data": {
      "text/plain": [
       "<BarContainer object of 12 artists>"
      ]
     },
     "execution_count": 46,
     "metadata": {},
     "output_type": "execute_result"
    },
    {
     "data": {
      "image/png": "[encoded data removed]",
      "text/plain": [
       "<Figure size 432x288 with 1 Axes>"
      ]
     },
     "metadata": {},
     "output_type": "display_data"
    }
   ],
   "source": [
    "final2_forest = RandomForestClassifier(n_estimators=500, \n",
    "                                      min_samples_leaf=5,\n",
    "                                      max_features=None,\n",
    "                                      n_jobs=-1,\n",
    "                                      oob_score=True)\n",
    "\n",
    "final2_forest.fit(X_final2_train, y_final2_train)\n",
    "\n",
    "final2_importances = final2_forest.feature_importances_\n",
    "final2_indices = np.argsort(final2_importances)[::-1]\n",
    "\n",
    "# for f in range(X_train.shape[1]): # to get the full results\n",
    "for f in range(len(columns)):\n",
    "    print(\"%2d) %-*s %f\" % (f + 1, 30, columns[final2_indices[f]], final2_importances[final2_indices[f]]))\n",
    "    \n",
    "plt.title('Feature Importance')\n",
    "plt.bar(range(X_final2_train.shape[1]), final2_importances[final2_indices], align='center')"
   ]
  },
  {
   "cell_type": "code",
   "execution_count": 47,
   "metadata": {},
   "outputs": [
    {
     "name": "stdout",
     "output_type": "stream",
     "text": [
      "Random Forest: \n",
      "              precision    recall  f1-score   support\n",
      "\n",
      "          0       0.79      1.00      0.88        19\n",
      "          1       0.00      0.00      0.00         5\n",
      "\n",
      "avg / total       0.63      0.79      0.70        24\n",
      "\n",
      "OOB score:  0.875\n"
     ]
    },
    {
     "name": "stderr",
     "output_type": "stream",
     "text": [
      "/home/ubuntu/anaconda3/envs/python3/lib/python3.6/site-packages/sklearn/metrics/classification.py:1135: UndefinedMetricWarning: Precision and F-score are ill-defined and being set to 0.0 in labels with no predicted samples.\n",
      "  'precision', 'predicted', average, warn_for)\n"
     ]
    }
   ],
   "source": [
    "y_final2_pred = final2_forest.predict(X_final2_valid)\n",
    "print('Random Forest: \\n', classification_report(y_true=y_final2_valid, y_pred=y_final2_pred))\n",
    "print('OOB score: ', final2_forest.oob_score_)"
   ]
  },
  {
   "cell_type": "code",
   "execution_count": 48,
   "metadata": {},
   "outputs": [],
   "source": [
    "final2_select = SelectFromModel(final2_forest, threshold=0.04)\n",
    "\n",
    "final2_select.fit(X_final2_train, y_final2_train)\n",
    "\n",
    "X_final2_important_train = final2_select.transform(X_final2_train)\n",
    "X_final2_important_train_df = pd.DataFrame(X_final2_important_train)\n",
    "X_final2_important_valid = final2_select.transform(X_final2_valid)"
   ]
  },
  {
   "cell_type": "code",
   "execution_count": 49,
   "metadata": {},
   "outputs": [
    {
     "name": "stdout",
     "output_type": "stream",
     "text": [
      "Random Forest: \n",
      "              precision    recall  f1-score   support\n",
      "\n",
      "          0       0.79      1.00      0.88        19\n",
      "          1       0.00      0.00      0.00         5\n",
      "\n",
      "avg / total       0.63      0.79      0.70        24\n",
      "\n",
      "OOB score:  0.875\n"
     ]
    },
    {
     "name": "stderr",
     "output_type": "stream",
     "text": [
      "/home/ubuntu/anaconda3/envs/python3/lib/python3.6/site-packages/sklearn/metrics/classification.py:1135: UndefinedMetricWarning: Precision and F-score are ill-defined and being set to 0.0 in labels with no predicted samples.\n",
      "  'precision', 'predicted', average, warn_for)\n"
     ]
    }
   ],
   "source": [
    "final2_forest.fit(X_final2_important_train, y_final2_train)\n",
    "y_final2_pred = final2_forest.predict(X_final2_important_valid)\n",
    "print('Random Forest: \\n', classification_report(y_true=y_final2_valid, y_pred=y_final2_pred))\n",
    "print('OOB score: ', final2_forest.oob_score_)"
   ]
  },
  {
   "cell_type": "code",
   "execution_count": null,
   "metadata": {},
   "outputs": [],
   "source": []
  },
  {
   "cell_type": "code",
   "execution_count": null,
   "metadata": {},
   "outputs": [],
   "source": []
  },
  {
   "cell_type": "code",
   "execution_count": null,
   "metadata": {},
   "outputs": [],
   "source": []
  }
 ],
 "metadata": {
  "kernelspec": {
   "display_name": "Environment (conda_python3)",
   "language": "python",
   "name": "conda_python3"
  },
  "language_info": {
   "codemirror_mode": {
    "name": "ipython",
    "version": 3
   },
   "file_extension": ".py",
   "mimetype": "text/x-python",
   "name": "python",
   "nbconvert_exporter": "python",
   "pygments_lexer": "ipython3",
   "version": "3.6.5"
  }
 },
 "nbformat": 4,
 "nbformat_minor": 2
}
