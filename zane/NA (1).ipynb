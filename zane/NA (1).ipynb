{
 "cells": [
  {
   "cell_type": "code",
   "execution_count": 1,
   "metadata": {},
   "outputs": [
    {
     "name": "stdout",
     "output_type": "stream",
     "text": [
      "final.ipynb\t   Full-Copy4.ipynb  Full-Copy9.ipynb  sum_tab_1.csv\r\n",
      "Full-Copy10.ipynb  Full-Copy5.ipynb  Full.ipynb        test_cli.tsv\r\n",
      "Full-Copy1.ipynb   Full-Copy6.ipynb  NA.ipynb\t       test_pro.tsv\r\n",
      "Full-Copy2.ipynb   Full-Copy7.ipynb  README.txt        train_cli.tsv\r\n",
      "Full-Copy3.ipynb   Full-Copy8.ipynb  start.ipynb       train_pro.tsv\r\n"
     ]
    }
   ],
   "source": [
    "!ls\n",
    "# Numerical Imporst \n",
    "import pandas as pd\n",
    "import numpy as np\n",
    "import scipy \n",
    "\n",
    "# Plotting \n",
    "import matplotlib.pyplot as plt\n",
    "import seaborn as sns\n",
    "%matplotlib inline\n",
    "# %matplotlib notebook\n",
    "\n",
    "# Python \n",
    "import os\n",
    "\n",
    "# sklearn \n",
    "from sklearn.metrics import f1_score # f1_score(y_true, y_pred)\n",
    "from sklearn.model_selection import train_test_split\n",
    "from sklearn.model_selection import GridSearchCV\n",
    "from sklearn.ensemble import RandomForestClassifier\n",
    "from sklearn.metrics import classification_report\n",
    "from sklearn.feature_selection import SelectFromModel\n",
    "\n",
    "# scipy\n",
    "from scipy.cluster import hierarchy as hc # for dendograms \n",
    "\n"
   ]
  },
  {
   "cell_type": "code",
   "execution_count": 2,
   "metadata": {},
   "outputs": [],
   "source": [
    "df_train_pro = pd.read_table(f'{os.getcwd()}/train_pro.tsv', \n",
    "                           delim_whitespace=True,\n",
    "                           low_memory=False,).T\n",
    "df_test_pro = pd.read_table(f'{os.getcwd()}/test_pro.tsv', \n",
    "                           delim_whitespace=True,\n",
    "                           low_memory=False,).T\n",
    "df_train_cli = pd.read_csv(f'{os.getcwd()}/train_cli.tsv', \n",
    "                           delim_whitespace=True,\n",
    "                           low_memory=False,)\n",
    "df_test_cli = pd.read_csv(f'{os.getcwd()}/test_cli.tsv', \n",
    "                           delim_whitespace=True,\n",
    "                           low_memory=False,)\n",
    "df_train_mislabel = pd.read_csv(f'{os.getcwd()}/sum_tab_1.csv', \n",
    "                           low_memory=False,)\n",
    "pd.set_option(\"display.max_rows\", 100)\n",
    "pd.set_option(\"display.max_columns\", 100)\n",
    "# df_train_pro\n",
    "# df_test_pro\n",
    "# df_train_cli\n",
    "# df_test_cli\n",
    "# df_train_mislabel"
   ]
  },
  {
   "cell_type": "code",
   "execution_count": 3,
   "metadata": {},
   "outputs": [],
   "source": [
    "# Come back to the way you handle this NA, sophisticated way will imporve by at least 5% \n",
    "train_pro = df_train_pro.copy(deep=True)\n",
    "# train_pro = train_pro.fillna(train_pro.mean())\n",
    "train_pro.index.name = 'sample'\n",
    "\n",
    "\n",
    "test_pro = df_test_pro.copy(deep=True)\n",
    "# test_pro = test_pro.fillna(test_pro.mean())\n",
    "test_pro.index.name = 'sample'\n",
    "\n",
    "# df_train_pro\n",
    "# train_pro\n",
    "# df_test_pro\n",
    "# test_pro"
   ]
  },
  {
   "cell_type": "code",
   "execution_count": 8,
   "metadata": {},
   "outputs": [],
   "source": [
    "train_cli = df_train_cli.copy(deep=True)\n",
    "# train_cli = train_cli.set_index('sample')\n",
    "train_cli = train_cli.replace({'gender': {'Male':0, 'Female':1},\n",
    "                              'msi': {'MSI-Low/MSS':0, 'MSI-High':1}})\n",
    "\n",
    "test_cli = df_test_cli.copy(deep=True)\n",
    "test_cli = test_cli.set_index('sample')\n",
    "test_cli = test_cli.replace({'gender': {'Male':0, 'Female':1},\n",
    "                              'msi': {'MSI-Low/MSS':0, 'MSI-High':1}})\n",
    "# df_train_cli\n",
    "# train_cli\n",
    "# df_test_cli\n",
    "# test_cli"
   ]
  },
  {
   "cell_type": "code",
   "execution_count": 9,
   "metadata": {},
   "outputs": [],
   "source": [
    "train_mislabel = df_train_mislabel.copy(deep=True)\n",
    "train_mislabel = train_mislabel.set_index('sample')\n",
    "\n",
    "# df_train_mislabel\n",
    "# train_mislabel"
   ]
  },
  {
   "cell_type": "code",
   "execution_count": 10,
   "metadata": {},
   "outputs": [],
   "source": [
    "train_pro.reset_index(drop=True, inplace=True)\n",
    "train_cli.reset_index(drop=True, inplace=True)\n",
    "train_mislabel.reset_index(drop=True, inplace=True)\n",
    "# train_pro\n",
    "# train_cli\n",
    "# train_mislabel\n",
    "train_combined = pd.concat([train_mislabel, train_cli, train_pro], axis=1)\n",
    "# train_combined"
   ]
  },
  {
   "cell_type": "markdown",
   "metadata": {},
   "source": [
    "### final parameters based on the importance on full dataset \n",
    "\n",
    "1. ANP32E                         0.202813\n",
    "2. msi                            0.122349\n",
    "3. AGRN                           0.104420\n",
    "4. RAD50                          0.087882\n",
    "5. CASK                           0.066713\n",
    "6. MYO5B                          0.065782\n",
    "7. XPNPEP1                        0.063634\n",
    "8. FMNL1                          0.049491\n",
    "9. CES2                           0.046209\n",
    "10. GBP2                          0.031256\n",
    "11. KLC4                          0.031149\n",
    "12. ARFIP1                        0.030896\n",
    "13. gender                        0.023883\n"
   ]
  },
  {
   "cell_type": "code",
   "execution_count": 19,
   "metadata": {},
   "outputs": [],
   "source": [
    "train_final2 = train_combined [['gender',\n",
    "                                'ANP32E', \n",
    "                                'RAD50', \n",
    "                                 'MYO5B', \n",
    "#                                 'CES2', \n",
    "#                                 'GBP2',\n",
    "                                'msi']]\n",
    "\n",
    "\n",
    "columns = train_final2.columns\n",
    "\n",
    "# train_final2\n",
    "# train_combined"
   ]
  },
  {
   "cell_type": "code",
   "execution_count": 20,
   "metadata": {},
   "outputs": [],
   "source": [
    "X_final2_train, X_final2_valid, y_final2_train, y_final2_valid = train_test_split(train_final2.values.astype(int),\n",
    "                                                                                  train_combined.mismatch.values, \n",
    "                                                                                  test_size=0.3)"
   ]
  },
  {
   "cell_type": "code",
   "execution_count": 21,
   "metadata": {},
   "outputs": [
    {
     "name": "stdout",
     "output_type": "stream",
     "text": [
      " 1) msi                            0.364998\n",
      " 2) ANP32E                         0.328398\n",
      " 3) RAD50                          0.168387\n",
      " 4) gender                         0.138216\n"
     ]
    },
    {
     "data": {
      "text/plain": [
       "<BarContainer object of 4 artists>"
      ]
     },
     "execution_count": 21,
     "metadata": {},
     "output_type": "execute_result"
    },
    {
     "data": {
      "image/png": "[encoded data removed]",
      "text/plain": [
       "<Figure size 432x288 with 1 Axes>"
      ]
     },
     "metadata": {},
     "output_type": "display_data"
    }
   ],
   "source": [
    "final2_forest = RandomForestClassifier(n_estimators=500, \n",
    "                                      min_samples_leaf=5,\n",
    "                                      max_features=None,\n",
    "                                      n_jobs=-1,\n",
    "                                      oob_score=True)\n",
    "\n",
    "final2_forest.fit(X_final2_train, y_final2_train)\n",
    "\n",
    "final2_importances = final2_forest.feature_importances_\n",
    "final2_indices = np.argsort(final2_importances)[::-1]\n",
    "\n",
    "# for f in range(X_train.shape[1]): # to get the full results\n",
    "for f in range(len(columns)):\n",
    "    print(\"%2d) %-*s %f\" % (f + 1, 30, columns[final2_indices[f]], final2_importances[final2_indices[f]]))\n",
    "    \n",
    "plt.title('Feature Importance')\n",
    "plt.bar(range(X_final2_train.shape[1]), final2_importances[final2_indices], align='center')"
   ]
  },
  {
   "cell_type": "code",
   "execution_count": 22,
   "metadata": {},
   "outputs": [
    {
     "name": "stdout",
     "output_type": "stream",
     "text": [
      "Random Forest: \n",
      "              precision    recall  f1-score   support\n",
      "\n",
      "          0       0.79      1.00      0.88        19\n",
      "          1       0.00      0.00      0.00         5\n",
      "\n",
      "avg / total       0.63      0.79      0.70        24\n",
      "\n",
      "OOB score:  0.875\n"
     ]
    },
    {
     "name": "stderr",
     "output_type": "stream",
     "text": [
      "/home/ubuntu/anaconda3/lib/python3.6/site-packages/sklearn/metrics/classification.py:1135: UndefinedMetricWarning: Precision and F-score are ill-defined and being set to 0.0 in labels with no predicted samples.\n",
      "  'precision', 'predicted', average, warn_for)\n"
     ]
    }
   ],
   "source": [
    "y_final2_pred = final2_forest.predict(X_final2_valid)\n",
    "print('Random Forest: \\n', classification_report(y_true=y_final2_valid, y_pred=y_final2_pred))\n",
    "print('OOB score: ', final2_forest.oob_score_)"
   ]
  },
  {
   "cell_type": "code",
   "execution_count": 23,
   "metadata": {},
   "outputs": [
    {
     "name": "stdout",
     "output_type": "stream",
     "text": [
      "Random Forest: \n",
      "              precision    recall  f1-score   support\n",
      "\n",
      "          0       0.79      1.00      0.88        19\n",
      "          1       0.00      0.00      0.00         5\n",
      "\n",
      "avg / total       0.63      0.79      0.70        24\n",
      "\n",
      "OOB score:  0.875\n"
     ]
    },
    {
     "name": "stderr",
     "output_type": "stream",
     "text": [
      "/home/ubuntu/anaconda3/lib/python3.6/site-packages/sklearn/metrics/classification.py:1135: UndefinedMetricWarning: Precision and F-score are ill-defined and being set to 0.0 in labels with no predicted samples.\n",
      "  'precision', 'predicted', average, warn_for)\n"
     ]
    }
   ],
   "source": [
    "final2_select = SelectFromModel(final2_forest, threshold=0.05)\n",
    "\n",
    "final2_select.fit(X_final2_train, y_final2_train)\n",
    "\n",
    "X_final2_important_train = final2_select.transform(X_final2_train)\n",
    "X_final2_important_train_df = pd.DataFrame(X_final2_important_train)\n",
    "X_final2_important_valid = final2_select.transform(X_final2_valid)\n",
    "final2_forest.fit(X_final2_important_train, y_final2_train)\n",
    "y_final2_pred = final2_forest.predict(X_final2_important_valid)\n",
    "print('Random Forest: \\n', classification_report(y_true=y_final2_valid, y_pred=y_final2_pred))\n",
    "print('OOB score: ', final2_forest.oob_score_)"
   ]
  },
  {
   "cell_type": "code",
   "execution_count": 24,
   "metadata": {},
   "outputs": [
    {
     "data": {
      "image/png": "[encoded data removed]",
      "text/plain": [
       "<Figure size 1152x720 with 1 Axes>"
      ]
     },
     "metadata": {},
     "output_type": "display_data"
    }
   ],
   "source": [
    "final2_corr = np.round(scipy.stats.spearmanr(X_final2_important_train).correlation, 4)\n",
    "final2_corr_condensed = hc.distance.squareform(1-final2_corr)\n",
    "final2_z = hc.linkage(final2_corr_condensed, method='average')\n",
    "fig = plt.figure(figsize=(16,10))\n",
    "final2_dendrogram = hc.dendrogram(final2_z, labels=X_final2_important_train_df.columns, orientation='left', leaf_font_size=16)\n",
    "plt.show()"
   ]
  },
  {
   "cell_type": "markdown",
   "metadata": {},
   "source": [
    "1. ANP32E                         0.176482\n",
    "2. RAD50                          0.172321\n",
    "3. CES2                           0.162040\n",
    "4. GBP2                           0.095733\n",
    "5. MYO5B                          0.076301\n"
   ]
  },
  {
   "cell_type": "code",
   "execution_count": 12,
   "metadata": {},
   "outputs": [
    {
     "data": {
      "text/plain": [
       "mismatch     0\n",
       "gender       0\n",
       "msi          0\n",
       "ANP32E       0\n",
       "RAD50        2\n",
       "CES2        13\n",
       "GBP2        14\n",
       "MYO5B        7\n",
       "dtype: int64"
      ]
     },
     "execution_count": 12,
     "metadata": {},
     "output_type": "execute_result"
    }
   ],
   "source": [
    "train_combined[['mismatch', 'gender', 'msi', 'ANP32E', 'RAD50', 'CES2', 'GBP2', 'MYO5B', ]].isnull().sum(axis = 0)"
   ]
  },
  {
   "cell_type": "code",
   "execution_count": null,
   "metadata": {},
   "outputs": [],
   "source": []
  }
 ],
 "metadata": {
  "kernelspec": {
   "display_name": "Python 3",
   "language": "python",
   "name": "python3"
  },
  "language_info": {
   "codemirror_mode": {
    "name": "ipython",
    "version": 3
   },
   "file_extension": ".py",
   "mimetype": "text/x-python",
   "name": "python",
   "nbconvert_exporter": "python",
   "pygments_lexer": "ipython3",
   "version": "3.6.5"
  }
 },
 "nbformat": 4,
 "nbformat_minor": 2
}
