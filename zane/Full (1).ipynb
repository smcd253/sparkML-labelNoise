{
 "cells": [
  {
   "cell_type": "code",
   "execution_count": 2,
   "metadata": {},
   "outputs": [
    {
     "name": "stdout",
     "output_type": "stream",
     "text": [
      "final_after_na.ipynb  Full-Copy4.ipynb\tFull.ipynb     test_pro.tsv\r\n",
      "final.ipynb\t      Full-Copy5.ipynb\tNA.ipynb       train_cli.tsv\r\n",
      "Full-Copy10.ipynb     Full-Copy6.ipynb\tREADME.txt     train_pro.tsv\r\n",
      "Full-Copy1.ipynb      Full-Copy7.ipynb\tstart.ipynb\r\n",
      "Full-Copy2.ipynb      Full-Copy8.ipynb\tsum_tab_1.csv\r\n",
      "Full-Copy3.ipynb      Full-Copy9.ipynb\ttest_cli.tsv\r\n"
     ]
    }
   ],
   "source": [
    "!ls\n",
    "# Numerical Imporst \n",
    "import pandas as pd\n",
    "import numpy as np\n",
    "import scipy \n",
    "\n",
    "# Plotting \n",
    "import matplotlib.pyplot as plt\n",
    "import seaborn as sns\n",
    "%matplotlib inline\n",
    "# %matplotlib notebook\n",
    "\n",
    "# Python \n",
    "import os\n",
    "\n",
    "# sklearn \n",
    "from sklearn.metrics import f1_score # f1_score(y_true, y_pred)\n",
    "from sklearn.model_selection import train_test_split\n",
    "from sklearn.model_selection import GridSearchCV\n",
    "from sklearn.ensemble import RandomForestClassifier\n",
    "from sklearn.metrics import classification_report\n",
    "from sklearn.feature_selection import SelectFromModel\n",
    "\n",
    "# scipy\n",
    "from scipy.cluster import hierarchy as hc # for dendograms \n",
    "\n"
   ]
  },
  {
   "cell_type": "code",
   "execution_count": 3,
   "metadata": {},
   "outputs": [],
   "source": [
    "df_train_pro = pd.read_table(f'{os.getcwd()}/train_pro.tsv', \n",
    "                           delim_whitespace=True,\n",
    "                           low_memory=False,).T\n",
    "df_test_pro = pd.read_table(f'{os.getcwd()}/test_pro.tsv', \n",
    "                           delim_whitespace=True,\n",
    "                           low_memory=False,).T\n",
    "df_train_cli = pd.read_csv(f'{os.getcwd()}/train_cli.tsv', \n",
    "                           delim_whitespace=True,\n",
    "                           low_memory=False,)\n",
    "df_test_cli = pd.read_csv(f'{os.getcwd()}/test_cli.tsv', \n",
    "                           delim_whitespace=True,\n",
    "                           low_memory=False,)\n",
    "df_train_mislabel = pd.read_csv(f'{os.getcwd()}/sum_tab_1.csv', \n",
    "                           low_memory=False,)\n",
    "pd.set_option(\"display.max_rows\", 100)\n",
    "pd.set_option(\"display.max_columns\", 100)\n",
    "# df_train_pro\n",
    "# df_test_pro\n",
    "# df_train_cli\n",
    "# df_test_cli\n",
    "# df_train_mislabel"
   ]
  },
  {
   "cell_type": "code",
   "execution_count": 4,
   "metadata": {},
   "outputs": [],
   "source": [
    "# Come back to the way you handle this NA, sophisticated way will imporve by at least 5% \n",
    "train_pro = df_train_pro.copy(deep=True)\n",
    "# train_pro = train_pro.fillna(train_pro.mean())\n",
    "train_pro.index.name = 'sample'\n",
    "\n",
    "\n",
    "test_pro = df_test_pro.copy(deep=True)\n",
    "# test_pro = test_pro.fillna(test_pro.mean())\n",
    "test_pro.index.name = 'sample'\n",
    "\n",
    "# df_train_pro\n",
    "# train_pro\n",
    "# df_test_pro\n",
    "# test_pro"
   ]
  },
  {
   "cell_type": "code",
   "execution_count": 5,
   "metadata": {},
   "outputs": [],
   "source": [
    "train_cli = df_train_cli.copy(deep=True)\n",
    "train_cli = train_cli.set_index('sample')\n",
    "train_cli = train_cli.replace({'gender': {'Male':0, 'Female':1},\n",
    "                              'msi': {'MSI-Low/MSS':0, 'MSI-High':1}})\n",
    "\n",
    "test_cli = df_test_cli.copy(deep=True)\n",
    "test_cli = test_cli.set_index('sample')\n",
    "test_cli = test_cli.replace({'gender': {'Male':0, 'Female':1},\n",
    "                              'msi': {'MSI-Low/MSS':0, 'MSI-High':1}})\n",
    "# df_train_cli\n",
    "# train_cli\n",
    "# df_test_cli\n",
    "# test_cli"
   ]
  },
  {
   "cell_type": "code",
   "execution_count": 6,
   "metadata": {},
   "outputs": [],
   "source": [
    "train_mislabel = df_train_mislabel.copy(deep=True)\n",
    "train_mislabel = train_mislabel.set_index('sample')\n",
    "\n",
    "# df_train_mislabel\n",
    "# train_mislabel"
   ]
  },
  {
   "cell_type": "code",
   "execution_count": 7,
   "metadata": {},
   "outputs": [],
   "source": [
    "train_pro.reset_index(drop=True, inplace=True)\n",
    "train_cli.reset_index(drop=True, inplace=True)\n",
    "train_mislabel.reset_index(drop=True, inplace=True)\n",
    "# train_pro\n",
    "# train_cli\n",
    "# train_mislabel\n",
    "train_combined = pd.concat([train_mislabel, train_cli, train_pro], axis=1)\n",
    "# train_combined"
   ]
  },
  {
   "cell_type": "markdown",
   "metadata": {},
   "source": [
    "### final parameters based on the importance on full dataset \n",
    "\n",
    "1. ANP32E                         0.202813\n",
    "2. msi                            0.122349\n",
    "3. AGRN                           0.104420\n",
    "4. RAD50                          0.087882\n",
    "5. CASK                           0.066713\n",
    "6. MYO5B                          0.065782\n",
    "7. XPNPEP1                        0.063634\n",
    "8. FMNL1                          0.049491\n",
    "9. CES2                           0.046209\n",
    "10. GBP2                          0.031256\n",
    "11. KLC4                          0.031149\n",
    "12. ARFIP1                        0.030896\n",
    "13. gender                        0.023883\n"
   ]
  },
  {
   "cell_type": "code",
   "execution_count": 14,
   "metadata": {},
   "outputs": [],
   "source": [
    "train_final2 = train_combined [['gender',\n",
    "                                'ANP32E', \n",
    "                                'AGRN', \n",
    "                                'RAD50', \n",
    "                                'CASK', \n",
    "                                'MYO5B', \n",
    "                                'XPNPEP1', \n",
    "                                'FMNL1', \n",
    "                                'CES2', \n",
    "                                'GBP2',\n",
    "                                'KLC4', \n",
    "                                'ARFIP1',\n",
    "                                'msi']].isnull().sum(axis = 0)\n",
    "\n",
    "\n",
    "# columns = train_final2.columns\n",
    "\n",
    "# train_final2\n",
    "# train_combined"
   ]
  },
  {
   "cell_type": "code",
   "execution_count": 15,
   "metadata": {},
   "outputs": [
    {
     "ename": "ValueError",
     "evalue": "Found input variables with inconsistent numbers of samples: [13, 80]",
     "output_type": "error",
     "traceback": [
      "\u001b[0;31m---------------------------------------------------------------------------\u001b[0m",
      "\u001b[0;31mValueError\u001b[0m                                Traceback (most recent call last)",
      "\u001b[0;32m<ipython-input-15-945d886ddfa4>\u001b[0m in \u001b[0;36m<module>\u001b[0;34m()\u001b[0m\n\u001b[1;32m      1\u001b[0m X_final2_train, X_final2_valid, y_final2_train, y_final2_valid = train_test_split(train_final2.values.astype(int),\n\u001b[1;32m      2\u001b[0m                                                                                   \u001b[0mtrain_combined\u001b[0m\u001b[0;34m.\u001b[0m\u001b[0mmismatch\u001b[0m\u001b[0;34m.\u001b[0m\u001b[0mvalues\u001b[0m\u001b[0;34m,\u001b[0m\u001b[0;34m\u001b[0m\u001b[0m\n\u001b[0;32m----> 3\u001b[0;31m                                                                                   test_size=0.3)\n\u001b[0m",
      "\u001b[0;32m~/anaconda3/lib/python3.6/site-packages/sklearn/model_selection/_split.py\u001b[0m in \u001b[0;36mtrain_test_split\u001b[0;34m(*arrays, **options)\u001b[0m\n\u001b[1;32m   2029\u001b[0m         \u001b[0mtest_size\u001b[0m \u001b[0;34m=\u001b[0m \u001b[0;36m0.25\u001b[0m\u001b[0;34m\u001b[0m\u001b[0m\n\u001b[1;32m   2030\u001b[0m \u001b[0;34m\u001b[0m\u001b[0m\n\u001b[0;32m-> 2031\u001b[0;31m     \u001b[0marrays\u001b[0m \u001b[0;34m=\u001b[0m \u001b[0mindexable\u001b[0m\u001b[0;34m(\u001b[0m\u001b[0;34m*\u001b[0m\u001b[0marrays\u001b[0m\u001b[0;34m)\u001b[0m\u001b[0;34m\u001b[0m\u001b[0m\n\u001b[0m\u001b[1;32m   2032\u001b[0m \u001b[0;34m\u001b[0m\u001b[0m\n\u001b[1;32m   2033\u001b[0m     \u001b[0;32mif\u001b[0m \u001b[0mshuffle\u001b[0m \u001b[0;32mis\u001b[0m \u001b[0;32mFalse\u001b[0m\u001b[0;34m:\u001b[0m\u001b[0;34m\u001b[0m\u001b[0m\n",
      "\u001b[0;32m~/anaconda3/lib/python3.6/site-packages/sklearn/utils/validation.py\u001b[0m in \u001b[0;36mindexable\u001b[0;34m(*iterables)\u001b[0m\n\u001b[1;32m    227\u001b[0m         \u001b[0;32melse\u001b[0m\u001b[0;34m:\u001b[0m\u001b[0;34m\u001b[0m\u001b[0m\n\u001b[1;32m    228\u001b[0m             \u001b[0mresult\u001b[0m\u001b[0;34m.\u001b[0m\u001b[0mappend\u001b[0m\u001b[0;34m(\u001b[0m\u001b[0mnp\u001b[0m\u001b[0;34m.\u001b[0m\u001b[0marray\u001b[0m\u001b[0;34m(\u001b[0m\u001b[0mX\u001b[0m\u001b[0;34m)\u001b[0m\u001b[0;34m)\u001b[0m\u001b[0;34m\u001b[0m\u001b[0m\n\u001b[0;32m--> 229\u001b[0;31m     \u001b[0mcheck_consistent_length\u001b[0m\u001b[0;34m(\u001b[0m\u001b[0;34m*\u001b[0m\u001b[0mresult\u001b[0m\u001b[0;34m)\u001b[0m\u001b[0;34m\u001b[0m\u001b[0m\n\u001b[0m\u001b[1;32m    230\u001b[0m     \u001b[0;32mreturn\u001b[0m \u001b[0mresult\u001b[0m\u001b[0;34m\u001b[0m\u001b[0m\n\u001b[1;32m    231\u001b[0m \u001b[0;34m\u001b[0m\u001b[0m\n",
      "\u001b[0;32m~/anaconda3/lib/python3.6/site-packages/sklearn/utils/validation.py\u001b[0m in \u001b[0;36mcheck_consistent_length\u001b[0;34m(*arrays)\u001b[0m\n\u001b[1;32m    202\u001b[0m     \u001b[0;32mif\u001b[0m \u001b[0mlen\u001b[0m\u001b[0;34m(\u001b[0m\u001b[0muniques\u001b[0m\u001b[0;34m)\u001b[0m \u001b[0;34m>\u001b[0m \u001b[0;36m1\u001b[0m\u001b[0;34m:\u001b[0m\u001b[0;34m\u001b[0m\u001b[0m\n\u001b[1;32m    203\u001b[0m         raise ValueError(\"Found input variables with inconsistent numbers of\"\n\u001b[0;32m--> 204\u001b[0;31m                          \" samples: %r\" % [int(l) for l in lengths])\n\u001b[0m\u001b[1;32m    205\u001b[0m \u001b[0;34m\u001b[0m\u001b[0m\n\u001b[1;32m    206\u001b[0m \u001b[0;34m\u001b[0m\u001b[0m\n",
      "\u001b[0;31mValueError\u001b[0m: Found input variables with inconsistent numbers of samples: [13, 80]"
     ]
    }
   ],
   "source": [
    "X_final2_train, X_final2_valid, y_final2_train, y_final2_valid = train_test_split(train_final2.values.astype(int),\n",
    "                                                                                  train_combined.mismatch.values, \n",
    "                                                                                  test_size=0.3)"
   ]
  },
  {
   "cell_type": "code",
   "execution_count": 16,
   "metadata": {},
   "outputs": [
    {
     "ename": "NameError",
     "evalue": "name 'X_final2_train' is not defined",
     "output_type": "error",
     "traceback": [
      "\u001b[0;31m---------------------------------------------------------------------------\u001b[0m",
      "\u001b[0;31mNameError\u001b[0m                                 Traceback (most recent call last)",
      "\u001b[0;32m<ipython-input-16-eb637c654e45>\u001b[0m in \u001b[0;36m<module>\u001b[0;34m()\u001b[0m\n\u001b[1;32m      5\u001b[0m                                       oob_score=True)\n\u001b[1;32m      6\u001b[0m \u001b[0;34m\u001b[0m\u001b[0m\n\u001b[0;32m----> 7\u001b[0;31m \u001b[0mfinal2_forest\u001b[0m\u001b[0;34m.\u001b[0m\u001b[0mfit\u001b[0m\u001b[0;34m(\u001b[0m\u001b[0mX_final2_train\u001b[0m\u001b[0;34m,\u001b[0m \u001b[0my_final2_train\u001b[0m\u001b[0;34m)\u001b[0m\u001b[0;34m\u001b[0m\u001b[0m\n\u001b[0m\u001b[1;32m      8\u001b[0m \u001b[0;34m\u001b[0m\u001b[0m\n\u001b[1;32m      9\u001b[0m \u001b[0mfinal2_importances\u001b[0m \u001b[0;34m=\u001b[0m \u001b[0mfinal2_forest\u001b[0m\u001b[0;34m.\u001b[0m\u001b[0mfeature_importances_\u001b[0m\u001b[0;34m\u001b[0m\u001b[0m\n",
      "\u001b[0;31mNameError\u001b[0m: name 'X_final2_train' is not defined"
     ]
    }
   ],
   "source": [
    "final2_forest = RandomForestClassifier(n_estimators=500, \n",
    "                                      min_samples_leaf=5,\n",
    "                                      max_features=None,\n",
    "                                      n_jobs=-1,\n",
    "                                      oob_score=True)\n",
    "\n",
    "final2_forest.fit(X_final2_train, y_final2_train)\n",
    "\n",
    "final2_importances = final2_forest.feature_importances_\n",
    "final2_indices = np.argsort(final2_importances)[::-1]\n",
    "\n",
    "# for f in range(X_train.shape[1]): # to get the full results\n",
    "for f in range(len(columns)):\n",
    "    print(\"%2d) %-*s %f\" % (f + 1, 30, columns[final2_indices[f]], final2_importances[final2_indices[f]]))\n",
    "    \n",
    "plt.title('Feature Importance')\n",
    "plt.bar(range(X_final2_train.shape[1]), final2_importances[final2_indices], align='center')"
   ]
  },
  {
   "cell_type": "code",
   "execution_count": 17,
   "metadata": {},
   "outputs": [
    {
     "ename": "NameError",
     "evalue": "name 'X_final2_valid' is not defined",
     "output_type": "error",
     "traceback": [
      "\u001b[0;31m---------------------------------------------------------------------------\u001b[0m",
      "\u001b[0;31mNameError\u001b[0m                                 Traceback (most recent call last)",
      "\u001b[0;32m<ipython-input-17-1af09ff842a9>\u001b[0m in \u001b[0;36m<module>\u001b[0;34m()\u001b[0m\n\u001b[0;32m----> 1\u001b[0;31m \u001b[0my_final2_pred\u001b[0m \u001b[0;34m=\u001b[0m \u001b[0mfinal2_forest\u001b[0m\u001b[0;34m.\u001b[0m\u001b[0mpredict\u001b[0m\u001b[0;34m(\u001b[0m\u001b[0mX_final2_valid\u001b[0m\u001b[0;34m)\u001b[0m\u001b[0;34m\u001b[0m\u001b[0m\n\u001b[0m\u001b[1;32m      2\u001b[0m \u001b[0mprint\u001b[0m\u001b[0;34m(\u001b[0m\u001b[0;34m'Random Forest: \\n'\u001b[0m\u001b[0;34m,\u001b[0m \u001b[0mclassification_report\u001b[0m\u001b[0;34m(\u001b[0m\u001b[0my_true\u001b[0m\u001b[0;34m=\u001b[0m\u001b[0my_final2_valid\u001b[0m\u001b[0;34m,\u001b[0m \u001b[0my_pred\u001b[0m\u001b[0;34m=\u001b[0m\u001b[0my_final2_pred\u001b[0m\u001b[0;34m)\u001b[0m\u001b[0;34m)\u001b[0m\u001b[0;34m\u001b[0m\u001b[0m\n\u001b[1;32m      3\u001b[0m \u001b[0mprint\u001b[0m\u001b[0;34m(\u001b[0m\u001b[0;34m'OOB score: '\u001b[0m\u001b[0;34m,\u001b[0m \u001b[0mfinal2_forest\u001b[0m\u001b[0;34m.\u001b[0m\u001b[0moob_score_\u001b[0m\u001b[0;34m)\u001b[0m\u001b[0;34m\u001b[0m\u001b[0m\n",
      "\u001b[0;31mNameError\u001b[0m: name 'X_final2_valid' is not defined"
     ]
    }
   ],
   "source": [
    "y_final2_pred = final2_forest.predict(X_final2_valid)\n",
    "print('Random Forest: \\n', classification_report(y_true=y_final2_valid, y_pred=y_final2_pred))\n",
    "print('OOB score: ', final2_forest.oob_score_)"
   ]
  },
  {
   "cell_type": "code",
   "execution_count": 18,
   "metadata": {},
   "outputs": [
    {
     "ename": "NameError",
     "evalue": "name 'X_final2_train' is not defined",
     "output_type": "error",
     "traceback": [
      "\u001b[0;31m---------------------------------------------------------------------------\u001b[0m",
      "\u001b[0;31mNameError\u001b[0m                                 Traceback (most recent call last)",
      "\u001b[0;32m<ipython-input-18-685c69c50c54>\u001b[0m in \u001b[0;36m<module>\u001b[0;34m()\u001b[0m\n\u001b[1;32m      1\u001b[0m \u001b[0mfinal2_select\u001b[0m \u001b[0;34m=\u001b[0m \u001b[0mSelectFromModel\u001b[0m\u001b[0;34m(\u001b[0m\u001b[0mfinal2_forest\u001b[0m\u001b[0;34m,\u001b[0m \u001b[0mthreshold\u001b[0m\u001b[0;34m=\u001b[0m\u001b[0;36m0.05\u001b[0m\u001b[0;34m)\u001b[0m\u001b[0;34m\u001b[0m\u001b[0m\n\u001b[1;32m      2\u001b[0m \u001b[0;34m\u001b[0m\u001b[0m\n\u001b[0;32m----> 3\u001b[0;31m \u001b[0mfinal2_select\u001b[0m\u001b[0;34m.\u001b[0m\u001b[0mfit\u001b[0m\u001b[0;34m(\u001b[0m\u001b[0mX_final2_train\u001b[0m\u001b[0;34m,\u001b[0m \u001b[0my_final2_train\u001b[0m\u001b[0;34m)\u001b[0m\u001b[0;34m\u001b[0m\u001b[0m\n\u001b[0m\u001b[1;32m      4\u001b[0m \u001b[0;34m\u001b[0m\u001b[0m\n\u001b[1;32m      5\u001b[0m \u001b[0mX_final2_important_train\u001b[0m \u001b[0;34m=\u001b[0m \u001b[0mfinal2_select\u001b[0m\u001b[0;34m.\u001b[0m\u001b[0mtransform\u001b[0m\u001b[0;34m(\u001b[0m\u001b[0mX_final2_train\u001b[0m\u001b[0;34m)\u001b[0m\u001b[0;34m\u001b[0m\u001b[0m\n",
      "\u001b[0;31mNameError\u001b[0m: name 'X_final2_train' is not defined"
     ]
    }
   ],
   "source": [
    "final2_select = SelectFromModel(final2_forest, threshold=0.05)\n",
    "\n",
    "final2_select.fit(X_final2_train, y_final2_train)\n",
    "\n",
    "X_final2_important_train = final2_select.transform(X_final2_train)\n",
    "X_final2_important_train_df = pd.DataFrame(X_final2_important_train)\n",
    "X_final2_important_valid = final2_select.transform(X_final2_valid)\n",
    "final2_forest.fit(X_final2_important_train, y_final2_train)\n",
    "y_final2_pred = final2_forest.predict(X_final2_important_valid)\n",
    "print('Random Forest: \\n', classification_report(y_true=y_final2_valid, y_pred=y_final2_pred))\n",
    "print('OOB score: ', final2_forest.oob_score_)"
   ]
  },
  {
   "cell_type": "code",
   "execution_count": 19,
   "metadata": {},
   "outputs": [
    {
     "ename": "NameError",
     "evalue": "name 'X_final2_important_train' is not defined",
     "output_type": "error",
     "traceback": [
      "\u001b[0;31m---------------------------------------------------------------------------\u001b[0m",
      "\u001b[0;31mNameError\u001b[0m                                 Traceback (most recent call last)",
      "\u001b[0;32m<ipython-input-19-c6de96cfbb29>\u001b[0m in \u001b[0;36m<module>\u001b[0;34m()\u001b[0m\n\u001b[0;32m----> 1\u001b[0;31m \u001b[0mfinal2_corr\u001b[0m \u001b[0;34m=\u001b[0m \u001b[0mnp\u001b[0m\u001b[0;34m.\u001b[0m\u001b[0mround\u001b[0m\u001b[0;34m(\u001b[0m\u001b[0mscipy\u001b[0m\u001b[0;34m.\u001b[0m\u001b[0mstats\u001b[0m\u001b[0;34m.\u001b[0m\u001b[0mspearmanr\u001b[0m\u001b[0;34m(\u001b[0m\u001b[0mX_final2_important_train\u001b[0m\u001b[0;34m)\u001b[0m\u001b[0;34m.\u001b[0m\u001b[0mcorrelation\u001b[0m\u001b[0;34m,\u001b[0m \u001b[0;36m4\u001b[0m\u001b[0;34m)\u001b[0m\u001b[0;34m\u001b[0m\u001b[0m\n\u001b[0m\u001b[1;32m      2\u001b[0m \u001b[0mfinal2_corr_condensed\u001b[0m \u001b[0;34m=\u001b[0m \u001b[0mhc\u001b[0m\u001b[0;34m.\u001b[0m\u001b[0mdistance\u001b[0m\u001b[0;34m.\u001b[0m\u001b[0msquareform\u001b[0m\u001b[0;34m(\u001b[0m\u001b[0;36m1\u001b[0m\u001b[0;34m-\u001b[0m\u001b[0mfinal2_corr\u001b[0m\u001b[0;34m)\u001b[0m\u001b[0;34m\u001b[0m\u001b[0m\n\u001b[1;32m      3\u001b[0m \u001b[0mfinal2_z\u001b[0m \u001b[0;34m=\u001b[0m \u001b[0mhc\u001b[0m\u001b[0;34m.\u001b[0m\u001b[0mlinkage\u001b[0m\u001b[0;34m(\u001b[0m\u001b[0mfinal2_corr_condensed\u001b[0m\u001b[0;34m,\u001b[0m \u001b[0mmethod\u001b[0m\u001b[0;34m=\u001b[0m\u001b[0;34m'average'\u001b[0m\u001b[0;34m)\u001b[0m\u001b[0;34m\u001b[0m\u001b[0m\n\u001b[1;32m      4\u001b[0m \u001b[0mfig\u001b[0m \u001b[0;34m=\u001b[0m \u001b[0mplt\u001b[0m\u001b[0;34m.\u001b[0m\u001b[0mfigure\u001b[0m\u001b[0;34m(\u001b[0m\u001b[0mfigsize\u001b[0m\u001b[0;34m=\u001b[0m\u001b[0;34m(\u001b[0m\u001b[0;36m16\u001b[0m\u001b[0;34m,\u001b[0m\u001b[0;36m10\u001b[0m\u001b[0;34m)\u001b[0m\u001b[0;34m)\u001b[0m\u001b[0;34m\u001b[0m\u001b[0m\n\u001b[1;32m      5\u001b[0m \u001b[0mfinal2_dendrogram\u001b[0m \u001b[0;34m=\u001b[0m \u001b[0mhc\u001b[0m\u001b[0;34m.\u001b[0m\u001b[0mdendrogram\u001b[0m\u001b[0;34m(\u001b[0m\u001b[0mfinal2_z\u001b[0m\u001b[0;34m,\u001b[0m \u001b[0mlabels\u001b[0m\u001b[0;34m=\u001b[0m\u001b[0mX_final2_important_train_df\u001b[0m\u001b[0;34m.\u001b[0m\u001b[0mcolumns\u001b[0m\u001b[0;34m,\u001b[0m \u001b[0morientation\u001b[0m\u001b[0;34m=\u001b[0m\u001b[0;34m'left'\u001b[0m\u001b[0;34m,\u001b[0m \u001b[0mleaf_font_size\u001b[0m\u001b[0;34m=\u001b[0m\u001b[0;36m16\u001b[0m\u001b[0;34m)\u001b[0m\u001b[0;34m\u001b[0m\u001b[0m\n",
      "\u001b[0;31mNameError\u001b[0m: name 'X_final2_important_train' is not defined"
     ]
    }
   ],
   "source": [
    "final2_corr = np.round(scipy.stats.spearmanr(X_final2_important_train).correlation, 4)\n",
    "final2_corr_condensed = hc.distance.squareform(1-final2_corr)\n",
    "final2_z = hc.linkage(final2_corr_condensed, method='average')\n",
    "fig = plt.figure(figsize=(16,10))\n",
    "final2_dendrogram = hc.dendrogram(final2_z, labels=X_final2_important_train_df.columns, orientation='left', leaf_font_size=16)\n",
    "plt.show()"
   ]
  },
  {
   "cell_type": "code",
   "execution_count": 8,
   "metadata": {},
   "outputs": [
    {
     "data": {
      "text/plain": [
       "gender      0\n",
       "ANP32E      0\n",
       "PPP1CC      7\n",
       "AGRN        2\n",
       "RAD50       2\n",
       "CASK        2\n",
       "MYO5B       7\n",
       "XPNPEP1     0\n",
       "FMNL1      14\n",
       "CES2       13\n",
       "GBP2       14\n",
       "KLC4        2\n",
       "ARFIP1      2\n",
       "msi         0\n",
       "dtype: int64"
      ]
     },
     "execution_count": 8,
     "metadata": {},
     "output_type": "execute_result"
    }
   ],
   "source": [
    "train_combined[['gender','ANP32E', 'PPP1CC', 'AGRN', 'RAD50',  'CASK', 'MYO5B', 'XPNPEP1', 'FMNL1', 'CES2', 'GBP2', 'KLC4', 'ARFIP1', 'msi']].isnull().sum(axis = 0)"
   ]
  },
  {
   "cell_type": "markdown",
   "metadata": {},
   "source": [
    "### msi\n",
    "1. CASK                           0.064384\n",
    "2. ADPGK                          0.061092\n",
    "3. ANP32E                         0.048545\n",
    "4. KLC4                           0.040509\n",
    "5. TAP1                           0.038269\n",
    "6. NCAPG                          0.037576\n",
    "7. RAD50                          0.035045\n",
    "8. FMNL1                          0.033152\n",
    "9. GBP2                           0.030121\n",
    "10. XPNPEP1                        0.029699\n",
    "11. PTPRC                          0.025719\n",
    "\n",
    "### gender\n",
    "1. PPP1CC                         0.050713\n",
    "2. AGRN                           0.037314\n",
    "4. ARFIP1                         0.029830\n",
    "5. CES2                           0.023406\n",
    "6. MYO5B                          0.021966\n"
   ]
  },
  {
   "cell_type": "code",
   "execution_count": null,
   "metadata": {},
   "outputs": [],
   "source": []
  }
 ],
 "metadata": {
  "kernelspec": {
   "display_name": "Python 3",
   "language": "python",
   "name": "python3"
  },
  "language_info": {
   "codemirror_mode": {
    "name": "ipython",
    "version": 3
   },
   "file_extension": ".py",
   "mimetype": "text/x-python",
   "name": "python",
   "nbconvert_exporter": "python",
   "pygments_lexer": "ipython3",
   "version": "3.6.5"
  }
 },
 "nbformat": 4,
 "nbformat_minor": 2
}
